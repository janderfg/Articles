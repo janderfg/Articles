{
 "cells": [
  {
   "cell_type": "markdown",
   "metadata": {},
   "source": [
    "# Convertendo Data para Dias da Semana\n",
    "\n",
    "\n",
    "Por Jander Guimarães<br>\n",
    "LinkedIn: https://www.linkedin.com/in/janderfg/<br>\n",
    "Github: https://github.com/janderfg\n",
    "\n",
    "Em determinadas situações, torna-se necessário obter o dia da semana, mês ou ano das datas para efetuar as análises.\n",
    "Qual o mês que mais vende todo ano? Qual o dia da semana com maior faturamento?\n",
    "\n",
    "Análises como essa podem ser obtidas de diversas formas, segue abaixo um exemplo prático e rápido para sabermos qual o dia com maior faturamento da semana.\n",
    "\n",
    "Obs.: Caso queira alterar o idioma para português, pode ser utilizado o módulo `locale`<br>\n",
    "https://docs.python.org/3/library/locale.html<br>\n",
    "\n",
    "Uma outra opção seria criar uma função de mapeamento, trocando os valores.\n",
    "\n",
    "\n"
   ]
  },
  {
   "cell_type": "code",
   "execution_count": 1,
   "metadata": {},
   "outputs": [],
   "source": [
    "# Importando as bibliotecas necessárias\n",
    "import pandas as pd\n",
    "from datetime import datetime as dt"
   ]
  },
  {
   "cell_type": "code",
   "execution_count": 2,
   "metadata": {},
   "outputs": [],
   "source": [
    "# Gerando um dataset de exemplo\n",
    "df = pd.DataFrame({'Data': ['2020-08-02','2020-08-03','2020-08-04','2020-08-05', \\\n",
    "                            '2020-08-06','2020-08-07','2020-08-08'], # Ano-Mês-Dia\n",
    "                   'Vendas': [750, 500, 350, 420, 120, 325, 420],\n",
    "                   'Faturamento': [1700, 950, 720, 820, 870, 1050, 1200]})\n",
    "df['Data'] = pd.to_datetime(df['Data'])"
   ]
  },
  {
   "cell_type": "code",
   "execution_count": 3,
   "metadata": {},
   "outputs": [
    {
     "data": {
      "text/html": [
       "<div>\n",
       "<style scoped>\n",
       "    .dataframe tbody tr th:only-of-type {\n",
       "        vertical-align: middle;\n",
       "    }\n",
       "\n",
       "    .dataframe tbody tr th {\n",
       "        vertical-align: top;\n",
       "    }\n",
       "\n",
       "    .dataframe thead th {\n",
       "        text-align: right;\n",
       "    }\n",
       "</style>\n",
       "<table border=\"1\" class=\"dataframe\">\n",
       "  <thead>\n",
       "    <tr style=\"text-align: right;\">\n",
       "      <th></th>\n",
       "      <th>Data</th>\n",
       "      <th>Vendas</th>\n",
       "      <th>Faturamento</th>\n",
       "    </tr>\n",
       "  </thead>\n",
       "  <tbody>\n",
       "    <tr>\n",
       "      <th>0</th>\n",
       "      <td>2020-08-02</td>\n",
       "      <td>750</td>\n",
       "      <td>1700</td>\n",
       "    </tr>\n",
       "    <tr>\n",
       "      <th>1</th>\n",
       "      <td>2020-08-03</td>\n",
       "      <td>500</td>\n",
       "      <td>950</td>\n",
       "    </tr>\n",
       "    <tr>\n",
       "      <th>2</th>\n",
       "      <td>2020-08-04</td>\n",
       "      <td>350</td>\n",
       "      <td>720</td>\n",
       "    </tr>\n",
       "    <tr>\n",
       "      <th>3</th>\n",
       "      <td>2020-08-05</td>\n",
       "      <td>420</td>\n",
       "      <td>820</td>\n",
       "    </tr>\n",
       "    <tr>\n",
       "      <th>4</th>\n",
       "      <td>2020-08-06</td>\n",
       "      <td>120</td>\n",
       "      <td>870</td>\n",
       "    </tr>\n",
       "    <tr>\n",
       "      <th>5</th>\n",
       "      <td>2020-08-07</td>\n",
       "      <td>325</td>\n",
       "      <td>1050</td>\n",
       "    </tr>\n",
       "    <tr>\n",
       "      <th>6</th>\n",
       "      <td>2020-08-08</td>\n",
       "      <td>420</td>\n",
       "      <td>1200</td>\n",
       "    </tr>\n",
       "  </tbody>\n",
       "</table>\n",
       "</div>"
      ],
      "text/plain": [
       "        Data  Vendas  Faturamento\n",
       "0 2020-08-02     750         1700\n",
       "1 2020-08-03     500          950\n",
       "2 2020-08-04     350          720\n",
       "3 2020-08-05     420          820\n",
       "4 2020-08-06     120          870\n",
       "5 2020-08-07     325         1050\n",
       "6 2020-08-08     420         1200"
      ]
     },
     "execution_count": 3,
     "metadata": {},
     "output_type": "execute_result"
    }
   ],
   "source": [
    "# Visualizando o dataset\n",
    "df"
   ]
  },
  {
   "cell_type": "code",
   "execution_count": 4,
   "metadata": {},
   "outputs": [],
   "source": [
    "# Obtendo o dia da semana\n",
    "# \"%A\": Dia da semana completo\n",
    "# \"%a\": Dia da semana abreviado\n",
    "# \"%w\": Dia da semana onde 0 é domingo até 6 sábado\n",
    "# Veja em https://strftime.org/\n",
    "df['Dia_da_Semana'] = df['Data'].apply(lambda x: x.strftime(\"%A\"))"
   ]
  },
  {
   "cell_type": "code",
   "execution_count": 5,
   "metadata": {},
   "outputs": [
    {
     "data": {
      "text/html": [
       "<div>\n",
       "<style scoped>\n",
       "    .dataframe tbody tr th:only-of-type {\n",
       "        vertical-align: middle;\n",
       "    }\n",
       "\n",
       "    .dataframe tbody tr th {\n",
       "        vertical-align: top;\n",
       "    }\n",
       "\n",
       "    .dataframe thead th {\n",
       "        text-align: right;\n",
       "    }\n",
       "</style>\n",
       "<table border=\"1\" class=\"dataframe\">\n",
       "  <thead>\n",
       "    <tr style=\"text-align: right;\">\n",
       "      <th></th>\n",
       "      <th>Data</th>\n",
       "      <th>Vendas</th>\n",
       "      <th>Faturamento</th>\n",
       "      <th>Dia_da_Semana</th>\n",
       "    </tr>\n",
       "  </thead>\n",
       "  <tbody>\n",
       "    <tr>\n",
       "      <th>0</th>\n",
       "      <td>2020-08-02</td>\n",
       "      <td>750</td>\n",
       "      <td>1700</td>\n",
       "      <td>Sunday</td>\n",
       "    </tr>\n",
       "    <tr>\n",
       "      <th>1</th>\n",
       "      <td>2020-08-03</td>\n",
       "      <td>500</td>\n",
       "      <td>950</td>\n",
       "      <td>Monday</td>\n",
       "    </tr>\n",
       "    <tr>\n",
       "      <th>2</th>\n",
       "      <td>2020-08-04</td>\n",
       "      <td>350</td>\n",
       "      <td>720</td>\n",
       "      <td>Tuesday</td>\n",
       "    </tr>\n",
       "    <tr>\n",
       "      <th>3</th>\n",
       "      <td>2020-08-05</td>\n",
       "      <td>420</td>\n",
       "      <td>820</td>\n",
       "      <td>Wednesday</td>\n",
       "    </tr>\n",
       "    <tr>\n",
       "      <th>4</th>\n",
       "      <td>2020-08-06</td>\n",
       "      <td>120</td>\n",
       "      <td>870</td>\n",
       "      <td>Thursday</td>\n",
       "    </tr>\n",
       "    <tr>\n",
       "      <th>5</th>\n",
       "      <td>2020-08-07</td>\n",
       "      <td>325</td>\n",
       "      <td>1050</td>\n",
       "      <td>Friday</td>\n",
       "    </tr>\n",
       "    <tr>\n",
       "      <th>6</th>\n",
       "      <td>2020-08-08</td>\n",
       "      <td>420</td>\n",
       "      <td>1200</td>\n",
       "      <td>Saturday</td>\n",
       "    </tr>\n",
       "  </tbody>\n",
       "</table>\n",
       "</div>"
      ],
      "text/plain": [
       "        Data  Vendas  Faturamento Dia_da_Semana\n",
       "0 2020-08-02     750         1700        Sunday\n",
       "1 2020-08-03     500          950        Monday\n",
       "2 2020-08-04     350          720       Tuesday\n",
       "3 2020-08-05     420          820     Wednesday\n",
       "4 2020-08-06     120          870      Thursday\n",
       "5 2020-08-07     325         1050        Friday\n",
       "6 2020-08-08     420         1200      Saturday"
      ]
     },
     "execution_count": 5,
     "metadata": {},
     "output_type": "execute_result"
    }
   ],
   "source": [
    "# Visualizando o dataset com os dias da semana\n",
    "df"
   ]
  },
  {
   "cell_type": "code",
   "execution_count": 6,
   "metadata": {},
   "outputs": [
    {
     "data": {
      "image/png": "[encoded data removed]",
      "text/plain": [
       "<Figure size 432x288 with 1 Axes>"
      ]
     },
     "metadata": {
      "needs_background": "light"
     },
     "output_type": "display_data"
    }
   ],
   "source": [
    "# Gerando um gráfico de barras de Faturamento por dia\n",
    "df.plot.bar(x='Dia_da_Semana', y='Faturamento', rot=45,\n",
    "            title=\"Faturamento Total Diário\", legend=False);"
   ]
  }
 ],
 "metadata": {
  "kernelspec": {
   "display_name": "Python 3",
   "language": "python",
   "name": "python3"
  },
  "language_info": {
   "codemirror_mode": {
    "name": "ipython",
    "version": 3
   },
   "file_extension": ".py",
   "mimetype": "text/x-python",
   "name": "python",
   "nbconvert_exporter": "python",
   "pygments_lexer": "ipython3",
   "version": "3.7.6"
  }
 },
 "nbformat": 4,
 "nbformat_minor": 4
}
