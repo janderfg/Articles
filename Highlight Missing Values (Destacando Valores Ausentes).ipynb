{
 "cells": [
  {
   "cell_type": "markdown",
   "metadata": {},
   "source": [
    "# Destacando valores ausentes (missing values)\n",
    "\n",
    "\n",
    "Por Jander Guimarães<br>\n",
    "LinkedIn: https://www.linkedin.com/in/janderfg/<br>\n",
    "Github: https://github.com/janderfg\n",
    "\n",
    "Uma das etapas mais importantes da Análise de Dados é o pré-processamento, e nesta etapa checamos os valores ausentes (missing values).\n",
    "\n",
    "Existe uma função que nos ajuda a destacar os valores ausentes de forma visual.\n",
    "\n",
    "Um exemplo é a \"style.highlight_null\" onde passamos a cor que será exibido e o resultado podemos ver no exemplo abaixo:"
   ]
  },
  {
   "cell_type": "code",
   "execution_count": 1,
   "metadata": {},
   "outputs": [],
   "source": [
    "import pandas as pd\n",
    "import numpy as np"
   ]
  },
  {
   "cell_type": "code",
   "execution_count": 2,
   "metadata": {},
   "outputs": [],
   "source": [
    "df = pd.DataFrame({'Nome': ['Lucas', 'Pedro', np.nan, 'Paulo', 'Eliana', \\\n",
    "                            'Mateus', 'Jander', 'Lucas', 'Dayana', 'Ricardo'],\n",
    "                   'Idade': [16, np.nan, 23, 17, 32, 65, 36, np.nan, 33, 18]})"
   ]
  },
  {
   "cell_type": "code",
   "execution_count": 3,
   "metadata": {},
   "outputs": [
    {
     "data": {
      "text/html": [
       "<style  type=\"text/css\" >\n",
       "    #T_b1ab3788_a44e_11ea_ac42_fc017cb3e7eerow1_col1 {\n",
       "            background-color:  red;\n",
       "        }    #T_b1ab3788_a44e_11ea_ac42_fc017cb3e7eerow2_col0 {\n",
       "            background-color:  red;\n",
       "        }    #T_b1ab3788_a44e_11ea_ac42_fc017cb3e7eerow7_col1 {\n",
       "            background-color:  red;\n",
       "        }</style><table id=\"T_b1ab3788_a44e_11ea_ac42_fc017cb3e7ee\" ><thead>    <tr>        <th class=\"blank level0\" ></th>        <th class=\"col_heading level0 col0\" >Nome</th>        <th class=\"col_heading level0 col1\" >Idade</th>    </tr></thead><tbody>\n",
       "                <tr>\n",
       "                        <th id=\"T_b1ab3788_a44e_11ea_ac42_fc017cb3e7eelevel0_row0\" class=\"row_heading level0 row0\" >0</th>\n",
       "                        <td id=\"T_b1ab3788_a44e_11ea_ac42_fc017cb3e7eerow0_col0\" class=\"data row0 col0\" >Lucas</td>\n",
       "                        <td id=\"T_b1ab3788_a44e_11ea_ac42_fc017cb3e7eerow0_col1\" class=\"data row0 col1\" >16.000000</td>\n",
       "            </tr>\n",
       "            <tr>\n",
       "                        <th id=\"T_b1ab3788_a44e_11ea_ac42_fc017cb3e7eelevel0_row1\" class=\"row_heading level0 row1\" >1</th>\n",
       "                        <td id=\"T_b1ab3788_a44e_11ea_ac42_fc017cb3e7eerow1_col0\" class=\"data row1 col0\" >Pedro</td>\n",
       "                        <td id=\"T_b1ab3788_a44e_11ea_ac42_fc017cb3e7eerow1_col1\" class=\"data row1 col1\" >nan</td>\n",
       "            </tr>\n",
       "            <tr>\n",
       "                        <th id=\"T_b1ab3788_a44e_11ea_ac42_fc017cb3e7eelevel0_row2\" class=\"row_heading level0 row2\" >2</th>\n",
       "                        <td id=\"T_b1ab3788_a44e_11ea_ac42_fc017cb3e7eerow2_col0\" class=\"data row2 col0\" >nan</td>\n",
       "                        <td id=\"T_b1ab3788_a44e_11ea_ac42_fc017cb3e7eerow2_col1\" class=\"data row2 col1\" >23.000000</td>\n",
       "            </tr>\n",
       "            <tr>\n",
       "                        <th id=\"T_b1ab3788_a44e_11ea_ac42_fc017cb3e7eelevel0_row3\" class=\"row_heading level0 row3\" >3</th>\n",
       "                        <td id=\"T_b1ab3788_a44e_11ea_ac42_fc017cb3e7eerow3_col0\" class=\"data row3 col0\" >Paulo</td>\n",
       "                        <td id=\"T_b1ab3788_a44e_11ea_ac42_fc017cb3e7eerow3_col1\" class=\"data row3 col1\" >17.000000</td>\n",
       "            </tr>\n",
       "            <tr>\n",
       "                        <th id=\"T_b1ab3788_a44e_11ea_ac42_fc017cb3e7eelevel0_row4\" class=\"row_heading level0 row4\" >4</th>\n",
       "                        <td id=\"T_b1ab3788_a44e_11ea_ac42_fc017cb3e7eerow4_col0\" class=\"data row4 col0\" >Eliana</td>\n",
       "                        <td id=\"T_b1ab3788_a44e_11ea_ac42_fc017cb3e7eerow4_col1\" class=\"data row4 col1\" >32.000000</td>\n",
       "            </tr>\n",
       "            <tr>\n",
       "                        <th id=\"T_b1ab3788_a44e_11ea_ac42_fc017cb3e7eelevel0_row5\" class=\"row_heading level0 row5\" >5</th>\n",
       "                        <td id=\"T_b1ab3788_a44e_11ea_ac42_fc017cb3e7eerow5_col0\" class=\"data row5 col0\" >Mateus</td>\n",
       "                        <td id=\"T_b1ab3788_a44e_11ea_ac42_fc017cb3e7eerow5_col1\" class=\"data row5 col1\" >65.000000</td>\n",
       "            </tr>\n",
       "            <tr>\n",
       "                        <th id=\"T_b1ab3788_a44e_11ea_ac42_fc017cb3e7eelevel0_row6\" class=\"row_heading level0 row6\" >6</th>\n",
       "                        <td id=\"T_b1ab3788_a44e_11ea_ac42_fc017cb3e7eerow6_col0\" class=\"data row6 col0\" >Jander</td>\n",
       "                        <td id=\"T_b1ab3788_a44e_11ea_ac42_fc017cb3e7eerow6_col1\" class=\"data row6 col1\" >36.000000</td>\n",
       "            </tr>\n",
       "            <tr>\n",
       "                        <th id=\"T_b1ab3788_a44e_11ea_ac42_fc017cb3e7eelevel0_row7\" class=\"row_heading level0 row7\" >7</th>\n",
       "                        <td id=\"T_b1ab3788_a44e_11ea_ac42_fc017cb3e7eerow7_col0\" class=\"data row7 col0\" >Lucas</td>\n",
       "                        <td id=\"T_b1ab3788_a44e_11ea_ac42_fc017cb3e7eerow7_col1\" class=\"data row7 col1\" >nan</td>\n",
       "            </tr>\n",
       "            <tr>\n",
       "                        <th id=\"T_b1ab3788_a44e_11ea_ac42_fc017cb3e7eelevel0_row8\" class=\"row_heading level0 row8\" >8</th>\n",
       "                        <td id=\"T_b1ab3788_a44e_11ea_ac42_fc017cb3e7eerow8_col0\" class=\"data row8 col0\" >Dayana</td>\n",
       "                        <td id=\"T_b1ab3788_a44e_11ea_ac42_fc017cb3e7eerow8_col1\" class=\"data row8 col1\" >33.000000</td>\n",
       "            </tr>\n",
       "            <tr>\n",
       "                        <th id=\"T_b1ab3788_a44e_11ea_ac42_fc017cb3e7eelevel0_row9\" class=\"row_heading level0 row9\" >9</th>\n",
       "                        <td id=\"T_b1ab3788_a44e_11ea_ac42_fc017cb3e7eerow9_col0\" class=\"data row9 col0\" >Ricardo</td>\n",
       "                        <td id=\"T_b1ab3788_a44e_11ea_ac42_fc017cb3e7eerow9_col1\" class=\"data row9 col1\" >18.000000</td>\n",
       "            </tr>\n",
       "    </tbody></table>"
      ],
      "text/plain": [
       "<pandas.io.formats.style.Styler at 0x1fe30003d08>"
      ]
     },
     "execution_count": 3,
     "metadata": {},
     "output_type": "execute_result"
    }
   ],
   "source": [
    "df.style.highlight_null(null_color='red')"
   ]
  }
 ],
 "metadata": {
  "kernelspec": {
   "display_name": "Python 3",
   "language": "python",
   "name": "python3"
  },
  "language_info": {
   "codemirror_mode": {
    "name": "ipython",
    "version": 3
   },
   "file_extension": ".py",
   "mimetype": "text/x-python",
   "name": "python",
   "nbconvert_exporter": "python",
   "pygments_lexer": "ipython3",
   "version": "3.7.6"
  }
 },
 "nbformat": 4,
 "nbformat_minor": 4
}
